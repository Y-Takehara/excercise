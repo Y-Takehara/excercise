{
 "cells": [
  {
   "cell_type": "code",
   "execution_count": 26,
   "metadata": {},
   "outputs": [],
   "source": [
    "import numpy as np\n",
    "import matplotlib.pyplot as plt"
   ]
  },
  {
   "cell_type": "code",
   "execution_count": 34,
   "metadata": {},
   "outputs": [],
   "source": [
    "n = 5 #メッシュの数\n",
    "dx = 1/(n-1) #メッシュの幅\n",
    "k = 1 #熱伝導率\n",
    "T = np.zeros([n,1])\n",
    "T[0,0] = 0 #左端境界条件\n",
    "T[n-1,0] = 1 #右端境界条件"
   ]
  },
  {
   "cell_type": "code",
   "execution_count": 35,
   "metadata": {},
   "outputs": [
    {
     "name": "stdout",
     "output_type": "stream",
     "text": [
      "[1. 0. 0. 0. 0.]\n",
      "[-4.  8. -4.  0.  0.]\n",
      "[ 0. -4.  8. -4.  0.]\n",
      "[ 0.  0. -4.  8. -4.]\n",
      "[0. 0. 0. 0. 1.]\n"
     ]
    }
   ],
   "source": [
    "A = np.zeros([n,n])\n",
    "for i in range(0,n):\n",
    "    A[i,i] = 2*k/dx #a_P, ai(TDMA)\n",
    "    if i <= n-2:\n",
    "        A[i+1,i] = -k/dx #-a_W, ci(TDMA)\n",
    "        A[i,i+1] = -k/dx #-a_E, bi(TDMA)\n",
    "\n",
    "# ディレクレ条件\n",
    "A[0,0] = 1\n",
    "A[0,1] = 0\n",
    "A[n-1,n-1] = 1\n",
    "A[n-1,n-2] = 0\n",
    "#For debug\n",
    "for i in range(0,n):\n",
    "    print(A[i])"
   ]
  },
  {
   "cell_type": "code",
   "execution_count": 38,
   "metadata": {},
   "outputs": [
    {
     "name": "stdout",
     "output_type": "stream",
     "text": [
      "[[ 1.  0.  0.  0.  0.]\n",
      " [-4.  8. -4.  0.  0.]\n",
      " [ 0. -4.  8. -4.  0.]\n",
      " [ 0.  0. -4.  8. -4.]\n",
      " [ 0.  0.  0.  0.  1.]]\n",
      "[[0.]\n",
      " [0.]\n",
      " [0.]\n",
      " [0.]\n",
      " [1.]]\n"
     ]
    }
   ],
   "source": [
    "b = np.zeros([n,1]) #d(TDMA)\n",
    "#ディレクレ条件\n",
    "b[0,0] = T[0,0]\n",
    "b[n-1,0] = T[n-1,0]\n",
    "print(A)\n",
    "print(b)"
   ]
  },
  {
   "cell_type": "code",
   "execution_count": 48,
   "metadata": {},
   "outputs": [
    {
     "name": "stdout",
     "output_type": "stream",
     "text": [
      "[[ 0.00000000e+00]\n",
      " [ 0.00000000e+00]\n",
      " [-2.22044605e-16]\n",
      " [-4.44089210e-16]\n",
      " [ 1.00000000e+00]]\n"
     ]
    },
    {
     "data": {
      "text/plain": [
       "'\\n#TDMA solver\\nimport numpy as np\\ndef TDMAsolver(a, b, c, d):\\n\\n    nf = len(d) # number of equations\\n    ac, bc, cc, dc = map(np.array, (a, b, c, d)) # copy arrays\\n    for it in range(1, nf):\\n        mc = ac[it-1]/bc[it-1]\\n        bc[it] = bc[it] - mc*cc[it-1] \\n        dc[it] = dc[it] - mc*dc[it-1]\\n            \\n    xc = bc\\n    xc[-1] = dc[-1]/bc[-1]\\n\\n    for il in range(nf-2, -1, -1):\\n        xc[il] = (dc[il]-cc[il]*xc[il+1])/bc[il]\\n\\n    return xc\\n\\n\\na = np.zeros([n])\\nb = np.zeros([n])\\nc = np.zeros([n])\\nd = np.zeros([n])\\nfor i in range(0,n):\\n    b[i] = A[i,i]\\n    d[i] = b[i]\\n    if i<= n-2:\\n        print(i)\\n        a[i] = A[i+1,i]\\n        c[i] = A[i,i+1]\\nT = TDMAsolver(a,b,c,d)\\n'"
      ]
     },
     "execution_count": 48,
     "metadata": {},
     "output_type": "execute_result"
    }
   ],
   "source": [
    "\n",
    "#TDMA algorithm\n",
    "P = np.zeros([1,n])\n",
    "Q = np.zeros([1,n])\n",
    "\n",
    "P[0,0] = -A[0,1]/A[0,0] #P1\n",
    "Q[0,0] = b[0,0]/A[0,0] #Q1\n",
    "\n",
    "for i in range(1,n-1):\n",
    "    P[0,i] = -A[i,i+1]/(A[i,i]+A[i,i-1]*P[0,i-1])\n",
    "    Q[0,i] = (b[i,0]-A[i,i-1]*Q[0,i-1])/(A[i,i]+A[i,i-1]*P[0,i-1])\n",
    "P[0,n-1] = 0\n",
    "Q[0,n-1] = T[n-1,0]\n",
    "\n",
    "for i in range(1,n-1):\n",
    "    T[n-1-i,0] = P[0,n-1-i]*T[n-i,0] + Q[0,n-1-i]\n",
    "print(np.dot(A,T))\n"
   ]
  },
  {
   "cell_type": "code",
   "execution_count": 49,
   "metadata": {},
   "outputs": [
    {
     "data": {
      "text/plain": [
       "[<matplotlib.lines.Line2D at 0x27af3760f88>]"
      ]
     },
     "execution_count": 49,
     "metadata": {},
     "output_type": "execute_result"
    },
    {
     "data": {
      "image/png": "[encoded data removed]",
      "text/plain": [
       "<Figure size 432x288 with 1 Axes>"
      ]
     },
     "metadata": {
      "needs_background": "light"
     },
     "output_type": "display_data"
    }
   ],
   "source": [
    "#plot\n",
    "x = np.zeros([n,1])\n",
    "for i in range(1,n):\n",
    "    x[i,0] = dx+x[i-1,0]\n",
    "plt.plot(x,T)"
   ]
  },
  {
   "cell_type": "code",
   "execution_count": null,
   "metadata": {},
   "outputs": [],
   "source": []
  }
 ],
 "metadata": {
  "kernelspec": {
   "display_name": "Python 3",
   "language": "python",
   "name": "python3"
  },
  "language_info": {
   "codemirror_mode": {
    "name": "ipython",
    "version": 3
   },
   "file_extension": ".py",
   "mimetype": "text/x-python",
   "name": "python",
   "nbconvert_exporter": "python",
   "pygments_lexer": "ipython3",
   "version": "3.7.4"
  }
 },
 "nbformat": 4,
 "nbformat_minor": 4
}
